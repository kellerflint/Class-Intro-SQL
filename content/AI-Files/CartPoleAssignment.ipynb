{
 "cells": [
  {
   "cell_type": "markdown",
   "metadata": {},
   "source": [
    "# Assignment - Reinforcement  Learning with CartPole\n",
    "\n",
    "In this notebook, we'll explore reinforcement learning (RL) using the CartPole environment from the Gymnasium library. RL is a type of machine learning where an agent learns to make decisions by interacting with an environment and receiving rewards or penalties for its actions.\n",
    "\n",
    "The CartPole environment is a classic control problem where the agent (a cart) has to balance a pole upright by applying forces to the cart (left or right). The goal is to prevent the pole from falling and keep the cart within the track boundaries.\n",
    "\n",
    "First, let's install and import the necessary libraries:"
   ]
  },
  {
   "cell_type": "code",
   "execution_count": 2,
   "metadata": {},
   "outputs": [
    {
     "name": "stdout",
     "output_type": "stream",
     "text": [
      "Requirement already satisfied: gymnasium in c:\\users\\kflin\\appdata\\local\\programs\\python\\python311\\lib\\site-packages (0.29.1)\n",
      "Requirement already satisfied: numpy>=1.21.0 in c:\\users\\kflin\\appdata\\local\\programs\\python\\python311\\lib\\site-packages (from gymnasium) (1.26.4)\n",
      "Requirement already satisfied: cloudpickle>=1.2.0 in c:\\users\\kflin\\appdata\\local\\programs\\python\\python311\\lib\\site-packages (from gymnasium) (3.0.0)\n",
      "Requirement already satisfied: typing-extensions>=4.3.0 in c:\\users\\kflin\\appdata\\local\\programs\\python\\python311\\lib\\site-packages (from gymnasium) (4.11.0)\n",
      "Requirement already satisfied: farama-notifications>=0.0.1 in c:\\users\\kflin\\appdata\\local\\programs\\python\\python311\\lib\\site-packages (from gymnasium) (0.0.4)\n",
      "Requirement already satisfied: stable_baselines3 in c:\\users\\kflin\\appdata\\local\\programs\\python\\python311\\lib\\site-packages (2.3.2)\n",
      "Requirement already satisfied: gymnasium<0.30,>=0.28.1 in c:\\users\\kflin\\appdata\\local\\programs\\python\\python311\\lib\\site-packages (from stable_baselines3) (0.29.1)\n",
      "Requirement already satisfied: numpy>=1.20 in c:\\users\\kflin\\appdata\\local\\programs\\python\\python311\\lib\\site-packages (from stable_baselines3) (1.26.4)\n",
      "Requirement already satisfied: torch>=1.13 in c:\\users\\kflin\\appdata\\local\\programs\\python\\python311\\lib\\site-packages (from stable_baselines3) (2.5.1+cu121)\n",
      "Requirement already satisfied: cloudpickle in c:\\users\\kflin\\appdata\\local\\programs\\python\\python311\\lib\\site-packages (from stable_baselines3) (3.0.0)\n",
      "Requirement already satisfied: pandas in c:\\users\\kflin\\appdata\\local\\programs\\python\\python311\\lib\\site-packages (from stable_baselines3) (2.2.3)\n",
      "Requirement already satisfied: matplotlib in c:\\users\\kflin\\appdata\\local\\programs\\python\\python311\\lib\\site-packages (from stable_baselines3) (3.8.4)\n",
      "Requirement already satisfied: typing-extensions>=4.3.0 in c:\\users\\kflin\\appdata\\local\\programs\\python\\python311\\lib\\site-packages (from gymnasium<0.30,>=0.28.1->stable_baselines3) (4.11.0)\n",
      "Requirement already satisfied: farama-notifications>=0.0.1 in c:\\users\\kflin\\appdata\\local\\programs\\python\\python311\\lib\\site-packages (from gymnasium<0.30,>=0.28.1->stable_baselines3) (0.0.4)\n",
      "Requirement already satisfied: filelock in c:\\users\\kflin\\appdata\\local\\programs\\python\\python311\\lib\\site-packages (from torch>=1.13->stable_baselines3) (3.14.0)\n",
      "Requirement already satisfied: networkx in c:\\users\\kflin\\appdata\\local\\programs\\python\\python311\\lib\\site-packages (from torch>=1.13->stable_baselines3) (3.3)\n",
      "Requirement already satisfied: jinja2 in c:\\users\\kflin\\appdata\\local\\programs\\python\\python311\\lib\\site-packages (from torch>=1.13->stable_baselines3) (3.1.3)\n",
      "Requirement already satisfied: fsspec in c:\\users\\kflin\\appdata\\local\\programs\\python\\python311\\lib\\site-packages (from torch>=1.13->stable_baselines3) (2024.3.1)\n",
      "Requirement already satisfied: sympy==1.13.1 in c:\\users\\kflin\\appdata\\local\\programs\\python\\python311\\lib\\site-packages (from torch>=1.13->stable_baselines3) (1.13.1)\n",
      "Requirement already satisfied: mpmath<1.4,>=1.1.0 in c:\\users\\kflin\\appdata\\local\\programs\\python\\python311\\lib\\site-packages (from sympy==1.13.1->torch>=1.13->stable_baselines3) (1.3.0)\n",
      "Requirement already satisfied: contourpy>=1.0.1 in c:\\users\\kflin\\appdata\\local\\programs\\python\\python311\\lib\\site-packages (from matplotlib->stable_baselines3) (1.2.1)\n",
      "Requirement already satisfied: cycler>=0.10 in c:\\users\\kflin\\appdata\\local\\programs\\python\\python311\\lib\\site-packages (from matplotlib->stable_baselines3) (0.12.1)\n",
      "Requirement already satisfied: fonttools>=4.22.0 in c:\\users\\kflin\\appdata\\local\\programs\\python\\python311\\lib\\site-packages (from matplotlib->stable_baselines3) (4.51.0)\n",
      "Requirement already satisfied: kiwisolver>=1.3.1 in c:\\users\\kflin\\appdata\\local\\programs\\python\\python311\\lib\\site-packages (from matplotlib->stable_baselines3) (1.4.5)\n",
      "Requirement already satisfied: packaging>=20.0 in c:\\users\\kflin\\appdata\\local\\programs\\python\\python311\\lib\\site-packages (from matplotlib->stable_baselines3) (23.2)\n",
      "Requirement already satisfied: pillow>=8 in c:\\users\\kflin\\appdata\\local\\programs\\python\\python311\\lib\\site-packages (from matplotlib->stable_baselines3) (10.3.0)\n",
      "Requirement already satisfied: pyparsing>=2.3.1 in c:\\users\\kflin\\appdata\\local\\programs\\python\\python311\\lib\\site-packages (from matplotlib->stable_baselines3) (3.1.2)\n",
      "Requirement already satisfied: python-dateutil>=2.7 in c:\\users\\kflin\\appdata\\local\\programs\\python\\python311\\lib\\site-packages (from matplotlib->stable_baselines3) (2.9.0.post0)\n",
      "Requirement already satisfied: pytz>=2020.1 in c:\\users\\kflin\\appdata\\local\\programs\\python\\python311\\lib\\site-packages (from pandas->stable_baselines3) (2022.7.1)\n",
      "Requirement already satisfied: tzdata>=2022.7 in c:\\users\\kflin\\appdata\\local\\programs\\python\\python311\\lib\\site-packages (from pandas->stable_baselines3) (2024.1)\n",
      "Requirement already satisfied: six>=1.5 in c:\\users\\kflin\\appdata\\local\\programs\\python\\python311\\lib\\site-packages (from python-dateutil>=2.7->matplotlib->stable_baselines3) (1.16.0)\n",
      "Requirement already satisfied: MarkupSafe>=2.0 in c:\\users\\kflin\\appdata\\local\\programs\\python\\python311\\lib\\site-packages (from jinja2->torch>=1.13->stable_baselines3) (2.1.5)\n"
     ]
    }
   ],
   "source": [
    "# this cell may take a few minutes to run depending on your system\n",
    "!pip install gymnasium\n",
    "!pip install stable_baselines3"
   ]
  },
  {
   "cell_type": "code",
   "execution_count": 3,
   "metadata": {},
   "outputs": [],
   "source": [
    "import gymnasium as gym\n",
    "from stable_baselines3 import PPO\n",
    "from stable_baselines3.common.vec_env import DummyVecEnv\n",
    "from stable_baselines3.common.evaluation import evaluate_policy"
   ]
  },
  {
   "cell_type": "markdown",
   "metadata": {},
   "source": [
    "We'll be using the Gymnasium library for the CartPole environment and stable_baselines3 for the PPO RL algorithm.\n",
    "\n",
    "Gymnasium is a library that provides a collection of reinforcement learning environments that are easy for our agents to interact with. Stable_baselines3 is a library that contains implementations of state-of-the-art reinforcement learning algorithms and is a convenient tool for training and evaluating RL agents.\n",
    "\n",
    "Now, let's create the CartPole environment with a human-rendered mode."
   ]
  },
  {
   "cell_type": "code",
   "execution_count": 4,
   "metadata": {},
   "outputs": [],
   "source": [
    "env = gym.make('CartPole-v1', render_mode='human')"
   ]
  },
  {
   "cell_type": "markdown",
   "metadata": {},
   "source": [
    "This creates a visual representation of the CartPole environment, allowing us to observe the agent's actions and the environment's state.\n",
    "\n",
    "Run the following code to observe the behavior of a random agent in the CartPole environment for 10 episodes. Observe how the cart and pole react to random actions."
   ]
  },
  {
   "cell_type": "code",
   "execution_count": 5,
   "metadata": {},
   "outputs": [],
   "source": [
    "for i in range(10):\n",
    "    obs = env.reset()\n",
    "    done = False\n",
    "    score = 0\n",
    "    \n",
    "    while not done:\n",
    "        env.render()\n",
    "        action = env.action_space.sample() # Select a random action from the list of possible actions\n",
    "        obs, reward, done, info, _ = env.step(action)\n",
    "        score += reward\n",
    "\n",
    "env.close()"
   ]
  },
  {
   "cell_type": "markdown",
   "metadata": {},
   "source": [
    "Observe how the cart and pole react to random actions. Notice that the pole falls quickly, and the cart moves randomly, unable to balance the pole.\n",
    "\n",
    "After seeing the random agent's behavior, we'll create a new environment without the human-rendered mode for faster training:"
   ]
  },
  {
   "cell_type": "code",
   "execution_count": 6,
   "metadata": {},
   "outputs": [],
   "source": [
    "env = gym.make('CartPole-v1')"
   ]
  },
  {
   "cell_type": "markdown",
   "metadata": {},
   "source": [
    "Before we start training agents, let's explore the CartPole environment and understand its properties:"
   ]
  },
  {
   "cell_type": "code",
   "execution_count": 7,
   "metadata": {},
   "outputs": [
    {
     "name": "stdout",
     "output_type": "stream",
     "text": [
      "Environment Information:\n",
      "Observation Space: Box([-4.8000002e+00 -3.4028235e+38 -4.1887903e-01 -3.4028235e+38], [4.8000002e+00 3.4028235e+38 4.1887903e-01 3.4028235e+38], (4,), float32)\n",
      "Action Space: Discrete(2)\n"
     ]
    }
   ],
   "source": [
    "print(\"Environment Information:\")\n",
    "print(f\"Observation Space: {env.observation_space}\")\n",
    "print(f\"Action Space: {env.action_space}\")"
   ]
  },
  {
   "cell_type": "markdown",
   "metadata": {},
   "source": [
    "The observation space represents the information the agent receives about the environment's state. The action space represents the actions the agent can take.\n",
    "\n",
    "This code resets the environment and prints the initial observation. The observation `obs` consists of the cart position, cart velocity, pole angle, and pole angular velocity."
   ]
  },
  {
   "cell_type": "code",
   "execution_count": 8,
   "metadata": {},
   "outputs": [
    {
     "name": "stdout",
     "output_type": "stream",
     "text": [
      "\n",
      "Initial Observation:\n",
      "Cart Position -0.023613954\n",
      "Cart Velocity 0.00020517317\n",
      "Pole Angle -0.003660751\n",
      "Pole Angular Velocity -0.008112466\n"
     ]
    }
   ],
   "source": [
    "obs = env.reset()\n",
    "print(\"\\nInitial Observation:\")\n",
    "print('Cart Position', obs[0][0])\n",
    "print('Cart Velocity', obs[0][1])\n",
    "print('Pole Angle', obs[0][2])\n",
    "print('Pole Angular Velocity', obs[0][3])"
   ]
  },
  {
   "cell_type": "markdown",
   "metadata": {},
   "source": [
    "This code prints the available actions in the action space (0 and 1, representing left and right forces) and their data type (integers)."
   ]
  },
  {
   "cell_type": "code",
   "execution_count": 9,
   "metadata": {},
   "outputs": [
    {
     "name": "stdout",
     "output_type": "stream",
     "text": [
      "Action Space:\n",
      "Action Data Type: int64\n",
      "0\n",
      "1\n"
     ]
    }
   ],
   "source": [
    "print(\"Action Space:\")\n",
    "print(\"Action Data Type:\", env.action_space.dtype)\n",
    "\n",
    "for action in range(env.action_space.n):\n",
    "    print(action)"
   ]
  },
  {
   "cell_type": "markdown",
   "metadata": {},
   "source": [
    "Now, let's run a random agent for 10 episodes and record its performance:"
   ]
  },
  {
   "cell_type": "code",
   "execution_count": 10,
   "metadata": {},
   "outputs": [
    {
     "name": "stdout",
     "output_type": "stream",
     "text": [
      "Episode: 1 Score: 16.0\n",
      "Episode: 2 Score: 12.0\n",
      "Episode: 3 Score: 14.0\n",
      "Episode: 4 Score: 11.0\n",
      "Episode: 5 Score: 25.0\n",
      "Episode: 6 Score: 15.0\n",
      "Episode: 7 Score: 17.0\n",
      "Episode: 8 Score: 34.0\n",
      "Episode: 9 Score: 19.0\n",
      "Episode: 10 Score: 32.0\n"
     ]
    }
   ],
   "source": [
    "env.close()\n",
    "env = gym.make('CartPole-v1', render_mode='human')\n",
    "episodes = 10\n",
    "\n",
    "for episode in range(1, episodes + 1):\n",
    "    obs, _ = env.reset()\n",
    "    done = False\n",
    "    score = 0\n",
    "\n",
    "    while not done:\n",
    "        env.render()\n",
    "        action = env.action_space.sample() # Select a random action\n",
    "        obs, reward, done, info, _ = env.step(action)\n",
    "        score += reward\n",
    "    \n",
    "    print(f'Episode: {episode} Score: {score}')\n",
    "        \n",
    "env.close()"
   ]
  },
  {
   "cell_type": "markdown",
   "metadata": {},
   "source": [
    "This code runs a random agent for 10 episodes, selects random actions, and prints the score for each episode. The score represents the number of time steps that the pole remained balanced for.\n",
    "\n",
    "Now, we'll train a more intelligent agent using the Proximal Policy Optimization (PPO) RL algorithm. We need to start by creating a new environment and wrap it with DummyVecEnv to make it compatible with the stable_baselines3 library (don't worry about the details of this for now)."
   ]
  },
  {
   "cell_type": "code",
   "execution_count": 11,
   "metadata": {},
   "outputs": [],
   "source": [
    "env = gym.make('CartPole-v1')\n",
    "env = DummyVecEnv([lambda: env])"
   ]
  },
  {
   "cell_type": "markdown",
   "metadata": {},
   "source": [
    "Next we'll create a PPO model with an MlpPolicy and specify the environment. MLP stands for multilayer perceptron. An MLP is a type of feedforward artificial neural network consisting of multiple layers of interconnected nodes (perceptrons).\n",
    "\n",
    "In the context of reinforcement learning, the MLP policy represents the agent's decision-making model. It takes the environment's state (observations) as input and outputs the probability distribution over actions. The MLP architecture allows the agent to learn complex patterns and relationships between the states and actions."
   ]
  },
  {
   "cell_type": "code",
   "execution_count": 12,
   "metadata": {},
   "outputs": [
    {
     "name": "stdout",
     "output_type": "stream",
     "text": [
      "Using cuda device\n"
     ]
    }
   ],
   "source": [
    "model = PPO('MlpPolicy', env, verbose=1)"
   ]
  },
  {
   "cell_type": "markdown",
   "metadata": {},
   "source": [
    "Now that we've established the environment and model, we can start training. This line trains the PPO model for 10,000 time steps, during which the agent learns to balance the pole by receiving rewards or penalties for its actions and ajusting the model accordingly."
   ]
  },
  {
   "cell_type": "code",
   "execution_count": 13,
   "metadata": {},
   "outputs": [
    {
     "name": "stdout",
     "output_type": "stream",
     "text": [
      "-----------------------------\n",
      "| time/              |      |\n",
      "|    fps             | 1074 |\n",
      "|    iterations      | 1    |\n",
      "|    time_elapsed    | 1    |\n",
      "|    total_timesteps | 2048 |\n",
      "-----------------------------\n",
      "-----------------------------------------\n",
      "| time/                   |             |\n",
      "|    fps                  | 839         |\n",
      "|    iterations           | 2           |\n",
      "|    time_elapsed         | 4           |\n",
      "|    total_timesteps      | 4096        |\n",
      "| train/                  |             |\n",
      "|    approx_kl            | 0.009057069 |\n",
      "|    clip_fraction        | 0.115       |\n",
      "|    clip_range           | 0.2         |\n",
      "|    entropy_loss         | -0.686      |\n",
      "|    explained_variance   | -0.00327    |\n",
      "|    learning_rate        | 0.0003      |\n",
      "|    loss                 | 7.01        |\n",
      "|    n_updates            | 10          |\n",
      "|    policy_gradient_loss | -0.0182     |\n",
      "|    value_loss           | 55.5        |\n",
      "-----------------------------------------\n",
      "-----------------------------------------\n",
      "| time/                   |             |\n",
      "|    fps                  | 801         |\n",
      "|    iterations           | 3           |\n",
      "|    time_elapsed         | 7           |\n",
      "|    total_timesteps      | 6144        |\n",
      "| train/                  |             |\n",
      "|    approx_kl            | 0.009929086 |\n",
      "|    clip_fraction        | 0.0685      |\n",
      "|    clip_range           | 0.2         |\n",
      "|    entropy_loss         | -0.665      |\n",
      "|    explained_variance   | 0.0731      |\n",
      "|    learning_rate        | 0.0003      |\n",
      "|    loss                 | 16.6        |\n",
      "|    n_updates            | 20          |\n",
      "|    policy_gradient_loss | -0.0186     |\n",
      "|    value_loss           | 36.9        |\n",
      "-----------------------------------------\n",
      "-----------------------------------------\n",
      "| time/                   |             |\n",
      "|    fps                  | 746         |\n",
      "|    iterations           | 4           |\n",
      "|    time_elapsed         | 10          |\n",
      "|    total_timesteps      | 8192        |\n",
      "| train/                  |             |\n",
      "|    approx_kl            | 0.007202565 |\n",
      "|    clip_fraction        | 0.0745      |\n",
      "|    clip_range           | 0.2         |\n",
      "|    entropy_loss         | -0.637      |\n",
      "|    explained_variance   | 0.186       |\n",
      "|    learning_rate        | 0.0003      |\n",
      "|    loss                 | 22.1        |\n",
      "|    n_updates            | 30          |\n",
      "|    policy_gradient_loss | -0.0179     |\n",
      "|    value_loss           | 54.6        |\n",
      "-----------------------------------------\n",
      "------------------------------------------\n",
      "| time/                   |              |\n",
      "|    fps                  | 708          |\n",
      "|    iterations           | 5            |\n",
      "|    time_elapsed         | 14           |\n",
      "|    total_timesteps      | 10240        |\n",
      "| train/                  |              |\n",
      "|    approx_kl            | 0.0067941463 |\n",
      "|    clip_fraction        | 0.0559       |\n",
      "|    clip_range           | 0.2          |\n",
      "|    entropy_loss         | -0.617       |\n",
      "|    explained_variance   | 0.238        |\n",
      "|    learning_rate        | 0.0003       |\n",
      "|    loss                 | 28.2         |\n",
      "|    n_updates            | 40           |\n",
      "|    policy_gradient_loss | -0.0148      |\n",
      "|    value_loss           | 66.4         |\n",
      "------------------------------------------\n"
     ]
    },
    {
     "data": {
      "text/plain": [
       "<stable_baselines3.ppo.ppo.PPO at 0x187f6598f90>"
      ]
     },
     "execution_count": 13,
     "metadata": {},
     "output_type": "execute_result"
    }
   ],
   "source": [
    "model.learn(10000)"
   ]
  },
  {
   "cell_type": "markdown",
   "metadata": {},
   "source": [
    "This code evaluates the trained model's performance over 10 episodes and prints the evaluation results (mean reward, standard deviation)."
   ]
  },
  {
   "cell_type": "code",
   "execution_count": 14,
   "metadata": {},
   "outputs": [
    {
     "name": "stderr",
     "output_type": "stream",
     "text": [
      "c:\\Users\\kflin\\AppData\\Local\\Programs\\Python\\Python311\\Lib\\site-packages\\stable_baselines3\\common\\evaluation.py:67: UserWarning: Evaluation environment is not wrapped with a ``Monitor`` wrapper. This may result in reporting modified episode lengths and rewards, if other wrappers happen to modify these. Consider wrapping environment first with ``Monitor`` wrapper.\n",
      "  warnings.warn(\n"
     ]
    },
    {
     "name": "stdout",
     "output_type": "stream",
     "text": [
      "Mean Reward: 307.1\n",
      "Standard Deviation 100.28504375030207\n"
     ]
    }
   ],
   "source": [
    "results = evaluate_policy(model, env, n_eval_episodes=10)\n",
    "print(\"Mean Reward:\", results[0])\n",
    "print(\"Standard Deviation\", results[1])"
   ]
  },
  {
   "cell_type": "markdown",
   "metadata": {},
   "source": [
    "**Your Turn:** In the cell below, create a new PPO model and store it in the variable `model2`. Try out a different number of time steps during training and see how it impacts the mean reward."
   ]
  },
  {
   "cell_type": "code",
   "execution_count": 17,
   "metadata": {},
   "outputs": [
    {
     "name": "stdout",
     "output_type": "stream",
     "text": [
      "Using cuda device\n",
      "-----------------------------\n",
      "| time/              |      |\n",
      "|    fps             | 746  |\n",
      "|    iterations      | 1    |\n",
      "|    time_elapsed    | 2    |\n",
      "|    total_timesteps | 2048 |\n",
      "-----------------------------\n"
     ]
    },
    {
     "data": {
      "text/plain": [
       "(263.4, 118.5556409455071)"
      ]
     },
     "execution_count": 17,
     "metadata": {},
     "output_type": "execute_result"
    }
   ],
   "source": [
    "# create the model\n",
    "model2 = PPO('MlpPolicy', env, verbose=1)\n",
    "\n",
    "# train the model\n",
    "model2.learn(1000)\n",
    "\n",
    "# evaluate the model\n",
    "evaluate_policy(model2, env, n_eval_episodes=10)"
   ]
  },
  {
   "cell_type": "markdown",
   "metadata": {},
   "source": [
    "Finally, let's visualize the trained agent's performance:"
   ]
  },
  {
   "cell_type": "code",
   "execution_count": 18,
   "metadata": {},
   "outputs": [
    {
     "name": "stdout",
     "output_type": "stream",
     "text": [
      "Episode: 1 Score: 100.0\n",
      "Episode: 2 Score: 200.0\n",
      "Episode: 3 Score: 173.0\n"
     ]
    }
   ],
   "source": [
    "env.close()\n",
    "env = gym.make('CartPole-v1', render_mode=\"human\")\n",
    "episodes = 3\n",
    "max_duration = 200\n",
    "for episode in range(1, episodes + 1):\n",
    "    obs, _ = env.reset()\n",
    "    done = False\n",
    "    score = 0\n",
    "    i = 0\n",
    "    while not done and i < max_duration:\n",
    "        i = i + 1\n",
    "        env.render()\n",
    "        action, _ = model.predict(obs)\n",
    "        obs, reward, done, info, _ = env.step(action)\n",
    "        score += reward\n",
    "    print(f'Episode: {episode} Score: {score}')\n",
    "env.close()"
   ]
  },
  {
   "cell_type": "markdown",
   "metadata": {},
   "source": [
    "This code runs the trained agent for 3 episodes then prints the score for each episode. We also limit each episode to a max duration of 200 time steps. You should observe that the trained agent can balance the pole for longer periods compared to the random agent.\n",
    "\n",
    "**Your Turn**: Run the visualization loop using your `model2` agent to predict the next action."
   ]
  },
  {
   "cell_type": "code",
   "execution_count": null,
   "metadata": {},
   "outputs": [],
   "source": [
    "env.close()\n",
    "env = gym.make('CartPole-v1', render_mode=\"human\")\n",
    "episodes = 3\n",
    "max_duration = 200\n",
    "for episode in range(1, episodes + 1):\n",
    "    obs, _ = env.reset()\n",
    "    done = False\n",
    "    score = 0\n",
    "    i = 0\n",
    "    while not done and i < max_duration:\n",
    "        i = i + 1\n",
    "        env.render()\n",
    "        action, _ = # predict the next action using your model\n",
    "        obs, reward, done, info, _ = env.step(action)\n",
    "        score += reward\n",
    "    print(f'Episode: {episode} Score: {score}')\n",
    "env.close()"
   ]
  }
 ],
 "metadata": {
  "kernelspec": {
   "display_name": "Python 3",
   "language": "python",
   "name": "python3"
  },
  "language_info": {
   "codemirror_mode": {
    "name": "ipython",
    "version": 3
   },
   "file_extension": ".py",
   "mimetype": "text/x-python",
   "name": "python",
   "nbconvert_exporter": "python",
   "pygments_lexer": "ipython3",
   "version": "3.11.9"
  }
 },
 "nbformat": 4,
 "nbformat_minor": 2
}
